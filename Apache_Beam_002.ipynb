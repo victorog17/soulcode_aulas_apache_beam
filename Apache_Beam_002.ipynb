{
  "nbformat": 4,
  "nbformat_minor": 0,
  "metadata": {
    "colab": {
      "name": "Apache_Beam_002.ipynb",
      "provenance": [],
      "collapsed_sections": [],
      "mount_file_id": "19CASu4NX0PvqT672Zu1pt5AKoEZU1nC1",
      "authorship_tag": "ABX9TyNTyMCwffoxlTvtnY00RG/O",
      "include_colab_link": true
    },
    "kernelspec": {
      "name": "python3",
      "display_name": "Python 3"
    },
    "language_info": {
      "name": "python"
    }
  },
  "cells": [
    {
      "cell_type": "markdown",
      "metadata": {
        "id": "view-in-github",
        "colab_type": "text"
      },
      "source": [
        "<a href=\"https://colab.research.google.com/github/victorog17/soulcode_aulas_apache_beam/blob/main/Apache_Beam_002.ipynb\" target=\"_parent\"><img src=\"https://colab.research.google.com/assets/colab-badge.svg\" alt=\"Open In Colab\"/></a>"
      ]
    },
    {
      "cell_type": "markdown",
      "metadata": {
        "id": "2dGiMkZXzh1Q"
      },
      "source": [
        "**DOCUMENTAÇÃO**\n",
        "\n",
        "https://cloud.google.com/dataflow/docs/reference/pipeline-options#python"
      ]
    },
    {
      "cell_type": "markdown",
      "metadata": {
        "id": "Lqv0WczVHAJF"
      },
      "source": [
        "**INSTALANDO APACHE BEAM GCP**"
      ]
    },
    {
      "cell_type": "code",
      "metadata": {
        "id": "ec8i7YLLDq7S"
      },
      "source": [
        "#pip install apache-beam[interactive]"
      ],
      "execution_count": null,
      "outputs": []
    },
    {
      "cell_type": "code",
      "metadata": {
        "id": "4NxOeqZEHFZa"
      },
      "source": [
        "#pip install apache-beam[gcp]"
      ],
      "execution_count": null,
      "outputs": []
    },
    {
      "cell_type": "markdown",
      "metadata": {
        "id": "xYyusyepHKHH"
      },
      "source": [
        "**BIBLIOTECAS**"
      ]
    },
    {
      "cell_type": "code",
      "metadata": {
        "id": "Fl9GqkxbHLss"
      },
      "source": [
        "import apache_beam as beam\n",
        "import os"
      ],
      "execution_count": null,
      "outputs": []
    },
    {
      "cell_type": "markdown",
      "metadata": {
        "id": "XXaW4TIYHUfE"
      },
      "source": [
        "**SALVANDO EM CLOUD E CRIANDO DATAFLOW**"
      ]
    },
    {
      "cell_type": "code",
      "metadata": {
        "colab": {
          "base_uri": "https://localhost:8080/"
        },
        "id": "8KucvPziHtRb",
        "outputId": "182ba2d0-a64e-4334-d05f-919ccb70f033"
      },
      "source": [
        "import apache_beam as beam\n",
        "import os\n",
        "from apache_beam.options.pipeline_options import PipelineOptions\n",
        "\n",
        "pipeline_options = {\n",
        "    'project': 'ingestao-apache-beam-victor', #nome do projeto (Project ID)\n",
        "    'runner': 'DataFlowRunner', # executor do projeto\n",
        "    'region': 'southamerica-east1',\n",
        "    'staging_location': 'gs://eng_gcp_dados_victor_soulcode001/temp', # área de preparação, o que de arquivo aquela VM precisa instalar para rodar aqui (tipo APIs que serão usadas)\n",
        "    'temp_location': 'gs://eng_gcp_dados_victor_soulcode001/temp', # o local onde ele irá processar\n",
        "    'template_location': 'gs://eng_gcp_dados_victor_soulcode001/template/template_arq_batch' # onde ficará o template/destino\n",
        "}\n",
        "\n",
        "serviceAccount = '/content/drive/MyDrive/Soul_Code_Academy/repositorio_apache_beam/ingestao-apache-beam-victor-0ac6fa7d11ea.json'\n",
        "os.environ['GOOGLE_APPLICATION_CREDENTIALS'] = serviceAccount\n",
        "\n",
        "pipeline_options = PipelineOptions.from_dictionary(pipeline_options)\n",
        "p1 = beam.Pipeline(options=pipeline_options)\n",
        "\n",
        "atrasados_tempo = (\n",
        "    p1\n",
        "    |'1.Extrair os dados' >> beam.io.ReadFromText('gs://eng_gcp_dados_victor_soulcode001/entrada/voos_sample.csv', skip_header_lines= 0)\n",
        "    |'1.Separador' >> beam.Map(lambda record: record.split(','))\n",
        "    |'1.Aeroportos atrasados' >> beam.Filter(lambda record: int(record[8]) > 0)\n",
        "    |'1.Agregação de colunas' >> beam.Map(lambda record: (record[3], int(record[8])))\n",
        "    |'1.Combinar os dados' >> beam.CombinePerKey(sum)\n",
        "    #|'1.Gravar resultado' >> beam.io.WriteToText('/content/drive/MyDrive/Soul_Code_Academy/repositorio_apache_beam/resultato_voos_atrasados.txt')\n",
        ")\n",
        "\n",
        "atrasos_qtd = (\n",
        "    p1\n",
        "    |'2.Extrair os dados' >> beam.io.ReadFromText('gs://eng_gcp_dados_victor_soulcode001/entrada/voos_sample.csv', skip_header_lines= 0)\n",
        "    |'2.Separador' >> beam.Map(lambda record: record.split(','))\n",
        "    |'2.Aeroportos atrasados' >> beam.Filter(lambda record: int(record[8]) > 0)\n",
        "    |'2.Agregação de colunas' >> beam.Map(lambda record: (record[3], int(record[8])))\n",
        "    |'2.Quantidade de atrasos' >> beam.combiners.Count.PerKey()\n",
        "    #|'2.Gravar resultado' >> beam.io.WriteToText('/content/drive/MyDrive/Soul_Code_Academy/repositorio_apache_beam/resultato_voos_atrasados.txt')\n",
        ")\n",
        "\n",
        "tabela_final = (\n",
        "    {'3.Qtd_Atrasos': atrasos_qtd, 'Tempo_Atrasos': atrasados_tempo}\n",
        "    |'3.Agrupamento das Pipes' >> beam.CoGroupByKey()\n",
        "    #|'3.Imprimir resultado' >> beam.Map(print)\n",
        "    #|'3.Saída para GCP' >> beam.io.WriteToText('gs://eng_gcp_dados_victor_soulcode001/teste/TESTE.csv')\n",
        ")\n",
        "p1.run()"
      ],
      "execution_count": null,
      "outputs": [
        {
          "output_type": "stream",
          "name": "stderr",
          "text": [
            "WARNING:root:Make sure that locally built Python SDK docker image has Python 3.7 interpreter.\n"
          ]
        },
        {
          "output_type": "execute_result",
          "data": {
            "text/plain": [
              "<DataflowPipelineResult None at 0x7f604037ec10>"
            ]
          },
          "metadata": {},
          "execution_count": 8
        }
      ]
    },
    {
      "cell_type": "code",
      "metadata": {
        "id": "xNReqEO5Tjk6"
      },
      "source": [
        ""
      ],
      "execution_count": null,
      "outputs": []
    }
  ]
}