{
  "nbformat": 4,
  "nbformat_minor": 0,
  "metadata": {
    "colab": {
      "name": "Apache_Beam_001.ipynb",
      "provenance": [],
      "collapsed_sections": [],
      "mount_file_id": "1lyr9bkxFLMuATna_MMHvCxG0BVQPaWPC",
      "authorship_tag": "ABX9TyNa2hi23fPFBesh02lyLCuS",
      "include_colab_link": true
    },
    "kernelspec": {
      "name": "python3",
      "display_name": "Python 3"
    },
    "language_info": {
      "name": "python"
    }
  },
  "cells": [
    {
      "cell_type": "markdown",
      "metadata": {
        "id": "view-in-github",
        "colab_type": "text"
      },
      "source": [
        "<a href=\"https://colab.research.google.com/github/victorog17/soulcode_aulas_apache_beam/blob/main/Apache_Beam_001.ipynb\" target=\"_parent\"><img src=\"https://colab.research.google.com/assets/colab-badge.svg\" alt=\"Open In Colab\"/></a>"
      ]
    },
    {
      "cell_type": "markdown",
      "metadata": {
        "id": "BupY4Btv2Bug"
      },
      "source": [
        "**INSTALANDO APACHE BEAM INTERACTIVE**"
      ]
    },
    {
      "cell_type": "code",
      "metadata": {
        "id": "1tp-ctvFxR09"
      },
      "source": [
        "pip install apache-beam[interactive]"
      ],
      "execution_count": null,
      "outputs": []
    },
    {
      "cell_type": "markdown",
      "metadata": {
        "id": "KuJ53ShH2vnE"
      },
      "source": [
        "**BIBLIOTECAS**"
      ]
    },
    {
      "cell_type": "code",
      "metadata": {
        "id": "y_J5BIvR1v2k"
      },
      "source": [
        "import apache_beam as beam"
      ],
      "execution_count": 1,
      "outputs": []
    },
    {
      "cell_type": "markdown",
      "metadata": {
        "id": "rfi2bfHbMZWg"
      },
      "source": [
        "**MAP**"
      ]
    },
    {
      "cell_type": "code",
      "metadata": {
        "colab": {
          "base_uri": "https://localhost:8080/"
        },
        "id": "jnZLsVg22t72",
        "outputId": "56a0365d-fb9a-4f29-986a-5722a7129124"
      },
      "source": [
        "p1 = beam.Pipeline()\n",
        "\n",
        "voos = (\n",
        "    p1\n",
        "    |'Extrair os dados' >> beam.io.ReadFromText('/content/drive/MyDrive/Soul_Code_Academy/repositorio_apache_beam/voos_sample.csv', skip_header_lines= 0)\n",
        "    |'Separador' >> beam.Map(lambda record: record.split(','))\n",
        "    #|'Saída de dados' >> beam.Map(print)\n",
        "    #|'Gravar resultado' >> beam.io.WriteToText('/content/drive/MyDrive/Soul_Code_Academy/repositorio_apache_beam/resultato.txt')\n",
        ")\n",
        "p1.run()"
      ],
      "execution_count": 14,
      "outputs": [
        {
          "output_type": "stream",
          "name": "stderr",
          "text": [
            "WARNING:root:Make sure that locally built Python SDK docker image has Python 3.7 interpreter.\n"
          ]
        },
        {
          "output_type": "execute_result",
          "data": {
            "text/plain": [
              "<apache_beam.runners.portability.fn_api_runner.fn_runner.RunnerResult at 0x7f84eb782dd0>"
            ]
          },
          "metadata": {},
          "execution_count": 14
        }
      ]
    },
    {
      "cell_type": "code",
      "metadata": {
        "id": "cWIHoVZdLgq6"
      },
      "source": [
        "p1 = beam.Pipeline()\n",
        "\n",
        "voos = (\n",
        "    p1\n",
        "    |'Extrair os dados' >> beam.io.ReadFromText('/content/drive/MyDrive/Soul_Code_Academy/repositorio_apache_beam/voos_sample.csv', skip_header_lines= 0)\n",
        "    |'Separador' >> beam.Map(lambda record: record.split(','))\n",
        "    |'Filtrar por' >> beam.Filter(lambda record: record[3] == 'JFK')\n",
        "    #|'Saída de dados' >> beam.Map(print)\n",
        "    #|'Gravar resultado' >> beam.io.WriteToText('/content/drive/MyDrive/Soul_Code_Academy/repositorio_apache_beam/resultatoJFK.txt')\n",
        ")\n",
        "p1.run()"
      ],
      "execution_count": null,
      "outputs": []
    },
    {
      "cell_type": "markdown",
      "metadata": {
        "id": "6DDWebyMMbaM"
      },
      "source": [
        "**FLATMAP**"
      ]
    },
    {
      "cell_type": "code",
      "metadata": {
        "colab": {
          "base_uri": "https://localhost:8080/"
        },
        "id": "Hjm7dC4F6jdE",
        "outputId": "f4fd48ef-e043-44df-d98f-6871ca99c81c"
      },
      "source": [
        "p2 = beam.Pipeline()\n",
        "\n",
        "poema = (\n",
        "    p2\n",
        "    |'Extrair os dados' >> beam.io.ReadFromText('/content/drive/MyDrive/Soul_Code_Academy/repositorio_apache_beam/poema.txt')\n",
        "    |'Separador' >> beam.FlatMap(lambda record: record.split(' '))\n",
        "    #|'Saída de dados' >> beam.FlatMap(print)\n",
        "    #|'Gravar resultado' >> beam.io.WriteToText('/content/drive/MyDrive/Soul_Code_Academy/repositorio_apache_beam/resultato_poema.txt')\n",
        ")\n",
        "p2.run()"
      ],
      "execution_count": 12,
      "outputs": [
        {
          "output_type": "stream",
          "name": "stderr",
          "text": [
            "WARNING:root:Make sure that locally built Python SDK docker image has Python 3.7 interpreter.\n",
            "WARNING:apache_beam.io.filebasedsink:Deleting 1 existing files in target path matching: -*-of-%(num_shards)05d\n"
          ]
        },
        {
          "output_type": "execute_result",
          "data": {
            "text/plain": [
              "<apache_beam.runners.portability.fn_api_runner.fn_runner.RunnerResult at 0x7f84eb76c890>"
            ]
          },
          "metadata": {},
          "execution_count": 12
        }
      ]
    },
    {
      "cell_type": "code",
      "metadata": {
        "colab": {
          "base_uri": "https://localhost:8080/"
        },
        "id": "RDDHyO1xFhwA",
        "outputId": "af2ce15e-336f-4264-bae6-2b1974ca9c53"
      },
      "source": [
        "palavras = ['quatro', 'que']\n",
        "\n",
        "def rastrearPalavras(i):\n",
        "  if i in palavras:\n",
        "    return True\n",
        "\n",
        "p2 = beam.Pipeline()\n",
        "\n",
        "poema = (\n",
        "    p2\n",
        "    |'Extrair os dados' >> beam.io.ReadFromText('/content/drive/MyDrive/Soul_Code_Academy/repositorio_apache_beam/poema.txt')\n",
        "    |'Separador' >> beam.FlatMap(lambda record: record.split(' '))\n",
        "    |'Encontrar as palavras' >> beam.Filter(rastrearPalavras)\n",
        "    |'Saída de dados' >> beam.FlatMap(print)\n",
        "    #|'Gravar resultado' >> beam.io.WriteToText('/content/drive/MyDrive/Soul_Code_Academy/repositorio_apache_beam/resultato_poema_filter.txt')\n",
        ")\n",
        "p2.run()"
      ],
      "execution_count": 15,
      "outputs": [
        {
          "output_type": "stream",
          "name": "stderr",
          "text": [
            "WARNING:root:Make sure that locally built Python SDK docker image has Python 3.7 interpreter.\n"
          ]
        },
        {
          "output_type": "stream",
          "name": "stdout",
          "text": [
            "quatro\n",
            "que\n",
            "quatro\n",
            "quatro\n",
            "que\n",
            "quatro\n"
          ]
        },
        {
          "output_type": "execute_result",
          "data": {
            "text/plain": [
              "<apache_beam.runners.portability.fn_api_runner.fn_runner.RunnerResult at 0x7f84eb34cfd0>"
            ]
          },
          "metadata": {},
          "execution_count": 15
        }
      ]
    },
    {
      "cell_type": "markdown",
      "metadata": {
        "id": "waUPOOOGR7_L"
      },
      "source": [
        "**COMBINAÇÃO**"
      ]
    },
    {
      "cell_type": "code",
      "metadata": {
        "colab": {
          "base_uri": "https://localhost:8080/"
        },
        "id": "gkN1vBi0MzzF",
        "outputId": "df83d67c-13e4-404b-8314-e74233e9f6c3"
      },
      "source": [
        "p1 = beam.Pipeline()\n",
        "\n",
        "voos_atrasados = (\n",
        "    p1\n",
        "    |'Extrair os dados' >> beam.io.ReadFromText('/content/drive/MyDrive/Soul_Code_Academy/repositorio_apache_beam/voos_sample.csv', skip_header_lines= 0)\n",
        "    |'Separador' >> beam.Map(lambda record: record.split(','))\n",
        "    |'Aeroportos atrasados' >> beam.Filter(lambda record: int(record[8]) > 0)\n",
        "    |'Agregação de colunas' >> beam.Map(lambda record: (record[3], int(record[8])))\n",
        "    |'Quantidade de atrasos' >> beam.combiners.Count.PerKey()\n",
        "    #|'Combinar os dados' >> beam.CombinePerKey(sum)\n",
        "    |'Saída de dados' >> beam.Map(print)\n",
        "    #|'Gravar resultado' >> beam.io.WriteToText('/content/drive/MyDrive/Soul_Code_Academy/repositorio_apache_beam/resultato_voos_atrasados.txt')\n",
        ")\n",
        "p1.run()"
      ],
      "execution_count": 19,
      "outputs": [
        {
          "output_type": "stream",
          "name": "stderr",
          "text": [
            "WARNING:root:Make sure that locally built Python SDK docker image has Python 3.7 interpreter.\n"
          ]
        },
        {
          "output_type": "stream",
          "name": "stdout",
          "text": [
            "('JFK', 5)\n",
            "('DFW', 2)\n",
            "('OGG', 1)\n",
            "('LAX', 2)\n",
            "('SFO', 2)\n"
          ]
        },
        {
          "output_type": "execute_result",
          "data": {
            "text/plain": [
              "<apache_beam.runners.portability.fn_api_runner.fn_runner.RunnerResult at 0x7f84eafd1990>"
            ]
          },
          "metadata": {},
          "execution_count": 19
        }
      ]
    },
    {
      "cell_type": "markdown",
      "metadata": {
        "id": "t6xeqf_5kpNM"
      },
      "source": [
        "**PROCESSAMENTO DE DOIS PIPELINES PARALELAMENTE**"
      ]
    },
    {
      "cell_type": "code",
      "metadata": {
        "colab": {
          "base_uri": "https://localhost:8080/"
        },
        "id": "z7kfu8jyUc80",
        "outputId": "71e4ba77-82ff-40c7-daec-42897b0e9858"
      },
      "source": [
        "p1 = beam.Pipeline()\n",
        "\n",
        "atrasados_tempo = (\n",
        "    p1\n",
        "    |'1.Extrair os dados' >> beam.io.ReadFromText('/content/drive/MyDrive/Soul_Code_Academy/repositorio_apache_beam/voos_sample.csv', skip_header_lines= 0)\n",
        "    |'1.Separador' >> beam.Map(lambda record: record.split(','))\n",
        "    |'1.Aeroportos atrasados' >> beam.Filter(lambda record: int(record[8]) > 0)\n",
        "    |'1.Agregação de colunas' >> beam.Map(lambda record: (record[3], int(record[8])))\n",
        "    |'1.Combinar os dados' >> beam.CombinePerKey(sum)\n",
        "    #|'Saída de dados' >> beam.Map(print)\n",
        "    #|'Gravar resultado' >> beam.io.WriteToText('/content/drive/MyDrive/Soul_Code_Academy/repositorio_apache_beam/resultato_voos_atrasados.txt')\n",
        ")\n",
        "\n",
        "atrasos_qtd = (\n",
        "    p1\n",
        "    |'2.Extrair os dados' >> beam.io.ReadFromText('/content/drive/MyDrive/Soul_Code_Academy/repositorio_apache_beam/voos_sample.csv', skip_header_lines= 0)\n",
        "    |'2.Separador' >> beam.Map(lambda record: record.split(','))\n",
        "    |'2.Aeroportos atrasados' >> beam.Filter(lambda record: int(record[8]) > 0)\n",
        "    |'2.Agregação de colunas' >> beam.Map(lambda record: (record[3], int(record[8])))\n",
        "    |'2.Quantidade de atrasos' >> beam.combiners.Count.PerKey()\n",
        "    #|'Saída de dados' >> beam.Map(print)\n",
        "    #|'Gravar resultado' >> beam.io.WriteToText('/content/drive/MyDrive/Soul_Code_Academy/repositorio_apache_beam/resultato_voos_atrasados.txt')\n",
        ")\n",
        "\n",
        "tabela_final = (\n",
        "    {'Qtd_Atrasos': atrasos_qtd, 'Tempo_Atrasos': atrasados_tempo}\n",
        "    |'Agrupamento das Pipes' >> beam.CoGroupByKey()\n",
        "    |'Imprimir resultado' >> beam.Map(print)\n",
        "    #|'Gravar' >> beam.io.WriteToText('/content/drive/MyDrive/Soul_Code_Academy/repositorio_apache_beam/atrasos_consolidados.txt')\n",
        ")\n",
        "p1.run()"
      ],
      "execution_count": 27,
      "outputs": [
        {
          "output_type": "stream",
          "name": "stderr",
          "text": [
            "WARNING:root:Make sure that locally built Python SDK docker image has Python 3.7 interpreter.\n"
          ]
        },
        {
          "output_type": "stream",
          "name": "stdout",
          "text": [
            "('JFK', {'Qtd_Atrasos': [5], 'Tempo_Atrasos': [94]})\n",
            "('DFW', {'Qtd_Atrasos': [2], 'Tempo_Atrasos': [153]})\n",
            "('OGG', {'Qtd_Atrasos': [1], 'Tempo_Atrasos': [95]})\n",
            "('LAX', {'Qtd_Atrasos': [2], 'Tempo_Atrasos': [12]})\n",
            "('SFO', {'Qtd_Atrasos': [2], 'Tempo_Atrasos': [208]})\n"
          ]
        },
        {
          "output_type": "execute_result",
          "data": {
            "text/plain": [
              "<apache_beam.runners.portability.fn_api_runner.fn_runner.RunnerResult at 0x7f84ead595d0>"
            ]
          },
          "metadata": {},
          "execution_count": 27
        }
      ]
    },
    {
      "cell_type": "code",
      "metadata": {
        "id": "Ty0nmteciUmx"
      },
      "source": [
        ""
      ],
      "execution_count": null,
      "outputs": []
    }
  ]
}