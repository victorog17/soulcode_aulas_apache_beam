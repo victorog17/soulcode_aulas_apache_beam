{
  "nbformat": 4,
  "nbformat_minor": 0,
  "metadata": {
    "colab": {
      "name": "Apache_Beam_001.ipynb",
      "provenance": [],
      "collapsed_sections": [],
      "mount_file_id": "1lyr9bkxFLMuATna_MMHvCxG0BVQPaWPC",
      "authorship_tag": "ABX9TyNxJAdHRQ3eMsKBeOxufzjF",
      "include_colab_link": true
    },
    "kernelspec": {
      "name": "python3",
      "display_name": "Python 3"
    },
    "language_info": {
      "name": "python"
    }
  },
  "cells": [
    {
      "cell_type": "markdown",
      "metadata": {
        "id": "view-in-github",
        "colab_type": "text"
      },
      "source": [
        "<a href=\"https://colab.research.google.com/github/victorog17/soulcode_aulas_apache_beam/blob/main/Apache_Beam_001.ipynb\" target=\"_parent\"><img src=\"https://colab.research.google.com/assets/colab-badge.svg\" alt=\"Open In Colab\"/></a>"
      ]
    },
    {
      "cell_type": "markdown",
      "metadata": {
        "id": "BupY4Btv2Bug"
      },
      "source": [
        "**INSTALANDO APACHE BEAM INTERACTIVE**"
      ]
    },
    {
      "cell_type": "code",
      "metadata": {
        "id": "1tp-ctvFxR09"
      },
      "source": [
        "pip install apache-beam[interactive]"
      ],
      "execution_count": null,
      "outputs": []
    },
    {
      "cell_type": "markdown",
      "metadata": {
        "id": "KuJ53ShH2vnE"
      },
      "source": [
        "**BIBLIOTECAS**"
      ]
    },
    {
      "cell_type": "code",
      "metadata": {
        "id": "y_J5BIvR1v2k"
      },
      "source": [
        "import apache_beam as beam"
      ],
      "execution_count": 2,
      "outputs": []
    },
    {
      "cell_type": "markdown",
      "metadata": {
        "id": "rfi2bfHbMZWg"
      },
      "source": [
        "**MAP**"
      ]
    },
    {
      "cell_type": "code",
      "metadata": {
        "id": "jnZLsVg22t72"
      },
      "source": [
        "p1 = beam.Pipeline()\n",
        "\n",
        "voos = (\n",
        "    p1\n",
        "    |'Extrair os dados' >> beam.io.ReadFromText('/content/drive/MyDrive/Soul_Code_Academy/repositorio_apache_beam/voos_sample.csv', skip_header_lines= 0)\n",
        "    |'Separador' >> beam.Map(lambda record: record.split(','))\n",
        "    |'Saída de dados' >> beam.Map(print)\n",
        "    #|'Gravar resultado' >> beam.io.WriteToText('/content/drive/MyDrive/Soul_Code_Academy/repositorio_apache_beam/resultato.txt')\n",
        ")\n",
        "p1.run()"
      ],
      "execution_count": null,
      "outputs": []
    },
    {
      "cell_type": "code",
      "metadata": {
        "id": "cWIHoVZdLgq6"
      },
      "source": [
        "p1 = beam.Pipeline()\n",
        "\n",
        "voos = (\n",
        "    p1\n",
        "    |'Extrair os dados' >> beam.io.ReadFromText('/content/drive/MyDrive/Soul_Code_Academy/repositorio_apache_beam/voos_sample.csv', skip_header_lines= 0)\n",
        "    |'Separador' >> beam.Map(lambda record: record.split(','))\n",
        "    |'Filtrar por' >> beam.Filter(lambda record: record[3] == 'JFK')\n",
        "    #|'Saída de dados' >> beam.Map(print)\n",
        "    #|'Gravar resultado' >> beam.io.WriteToText('/content/drive/MyDrive/Soul_Code_Academy/repositorio_apache_beam/resultatoJFK.txt')\n",
        ")\n",
        "p1.run()"
      ],
      "execution_count": null,
      "outputs": []
    },
    {
      "cell_type": "markdown",
      "metadata": {
        "id": "6DDWebyMMbaM"
      },
      "source": [
        "**FLATMAP**"
      ]
    },
    {
      "cell_type": "code",
      "metadata": {
        "colab": {
          "base_uri": "https://localhost:8080/"
        },
        "id": "Hjm7dC4F6jdE",
        "outputId": "f4fd48ef-e043-44df-d98f-6871ca99c81c"
      },
      "source": [
        "p2 = beam.Pipeline()\n",
        "\n",
        "poema = (\n",
        "    p2\n",
        "    |'Extrair os dados' >> beam.io.ReadFromText('/content/drive/MyDrive/Soul_Code_Academy/repositorio_apache_beam/poema.txt')\n",
        "    |'Separador' >> beam.FlatMap(lambda record: record.split(' '))\n",
        "    #|'Saída de dados' >> beam.FlatMap(print)\n",
        "    #|'Gravar resultado' >> beam.io.WriteToText('/content/drive/MyDrive/Soul_Code_Academy/repositorio_apache_beam/resultato_poema.txt')\n",
        ")\n",
        "p2.run()"
      ],
      "execution_count": null,
      "outputs": [
        {
          "output_type": "stream",
          "name": "stderr",
          "text": [
            "WARNING:root:Make sure that locally built Python SDK docker image has Python 3.7 interpreter.\n",
            "WARNING:apache_beam.io.filebasedsink:Deleting 1 existing files in target path matching: -*-of-%(num_shards)05d\n"
          ]
        },
        {
          "output_type": "execute_result",
          "data": {
            "text/plain": [
              "<apache_beam.runners.portability.fn_api_runner.fn_runner.RunnerResult at 0x7f84eb76c890>"
            ]
          },
          "metadata": {},
          "execution_count": 12
        }
      ]
    },
    {
      "cell_type": "code",
      "metadata": {
        "colab": {
          "base_uri": "https://localhost:8080/"
        },
        "id": "RDDHyO1xFhwA",
        "outputId": "af2ce15e-336f-4264-bae6-2b1974ca9c53"
      },
      "source": [
        "palavras = ['quatro', 'que']\n",
        "\n",
        "def rastrearPalavras(i):\n",
        "  if i in palavras:\n",
        "    return True\n",
        "\n",
        "p2 = beam.Pipeline()\n",
        "\n",
        "poema = (\n",
        "    p2\n",
        "    |'Extrair os dados' >> beam.io.ReadFromText('/content/drive/MyDrive/Soul_Code_Academy/repositorio_apache_beam/poema.txt')\n",
        "    |'Separador' >> beam.FlatMap(lambda record: record.split(' '))\n",
        "    |'Encontrar as palavras' >> beam.Filter(rastrearPalavras)\n",
        "    |'Saída de dados' >> beam.FlatMap(print)\n",
        "    #|'Gravar resultado' >> beam.io.WriteToText('/content/drive/MyDrive/Soul_Code_Academy/repositorio_apache_beam/resultato_poema_filter.txt')\n",
        ")\n",
        "p2.run()"
      ],
      "execution_count": null,
      "outputs": [
        {
          "output_type": "stream",
          "name": "stderr",
          "text": [
            "WARNING:root:Make sure that locally built Python SDK docker image has Python 3.7 interpreter.\n"
          ]
        },
        {
          "output_type": "stream",
          "name": "stdout",
          "text": [
            "quatro\n",
            "que\n",
            "quatro\n",
            "quatro\n",
            "que\n",
            "quatro\n"
          ]
        },
        {
          "output_type": "execute_result",
          "data": {
            "text/plain": [
              "<apache_beam.runners.portability.fn_api_runner.fn_runner.RunnerResult at 0x7f84eb34cfd0>"
            ]
          },
          "metadata": {},
          "execution_count": 15
        }
      ]
    },
    {
      "cell_type": "markdown",
      "metadata": {
        "id": "waUPOOOGR7_L"
      },
      "source": [
        "**COMBINAÇÃO**"
      ]
    },
    {
      "cell_type": "code",
      "metadata": {
        "colab": {
          "base_uri": "https://localhost:8080/"
        },
        "id": "gkN1vBi0MzzF",
        "outputId": "df83d67c-13e4-404b-8314-e74233e9f6c3"
      },
      "source": [
        "p1 = beam.Pipeline()\n",
        "\n",
        "voos_atrasados = (\n",
        "    p1\n",
        "    |'Extrair os dados' >> beam.io.ReadFromText('/content/drive/MyDrive/Soul_Code_Academy/repositorio_apache_beam/voos_sample.csv', skip_header_lines= 0)\n",
        "    |'Separador' >> beam.Map(lambda record: record.split(','))\n",
        "    |'Aeroportos atrasados' >> beam.Filter(lambda record: int(record[8]) > 0)\n",
        "    |'Agregação de colunas' >> beam.Map(lambda record: (record[3], int(record[8])))\n",
        "    |'Quantidade de atrasos' >> beam.combiners.Count.PerKey()\n",
        "    #|'Combinar os dados' >> beam.CombinePerKey(sum)\n",
        "    |'Saída de dados' >> beam.Map(print)\n",
        "    #|'Gravar resultado' >> beam.io.WriteToText('/content/drive/MyDrive/Soul_Code_Academy/repositorio_apache_beam/resultato_voos_atrasados.txt')\n",
        ")\n",
        "p1.run()"
      ],
      "execution_count": null,
      "outputs": [
        {
          "output_type": "stream",
          "name": "stderr",
          "text": [
            "WARNING:root:Make sure that locally built Python SDK docker image has Python 3.7 interpreter.\n"
          ]
        },
        {
          "output_type": "stream",
          "name": "stdout",
          "text": [
            "('JFK', 5)\n",
            "('DFW', 2)\n",
            "('OGG', 1)\n",
            "('LAX', 2)\n",
            "('SFO', 2)\n"
          ]
        },
        {
          "output_type": "execute_result",
          "data": {
            "text/plain": [
              "<apache_beam.runners.portability.fn_api_runner.fn_runner.RunnerResult at 0x7f84eafd1990>"
            ]
          },
          "metadata": {},
          "execution_count": 19
        }
      ]
    },
    {
      "cell_type": "markdown",
      "metadata": {
        "id": "t6xeqf_5kpNM"
      },
      "source": [
        "**PROCESSAMENTO DE DOIS PIPELINES PARALELAMENTE**"
      ]
    },
    {
      "cell_type": "code",
      "metadata": {
        "id": "z7kfu8jyUc80"
      },
      "source": [
        "p1 = beam.Pipeline()\n",
        "\n",
        "atrasados_tempo = (\n",
        "    p1\n",
        "    |'1.Extrair os dados' >> beam.io.ReadFromText('/content/drive/MyDrive/Soul_Code_Academy/repositorio_apache_beam/voos_sample.csv', skip_header_lines= 0)\n",
        "    |'1.Separador' >> beam.Map(lambda record: record.split(','))\n",
        "    |'1.Aeroportos atrasados' >> beam.Filter(lambda record: int(record[8]) > 0)\n",
        "    |'1.Agregação de colunas' >> beam.Map(lambda record: (record[3], int(record[8])))\n",
        "    |'1.Combinar os dados' >> beam.CombinePerKey(sum)\n",
        "    #|'1.Saída de dados' >> beam.Map(print)\n",
        "    #|'1.Gravar resultado' >> beam.io.WriteToText('/content/drive/MyDrive/Soul_Code_Academy/repositorio_apache_beam/resultato_voos_atrasados.txt')\n",
        ")\n",
        "\n",
        "atrasos_qtd = (\n",
        "    p1\n",
        "    |'2.Extrair os dados' >> beam.io.ReadFromText('/content/drive/MyDrive/Soul_Code_Academy/repositorio_apache_beam/voos_sample.csv', skip_header_lines= 0)\n",
        "    |'2.Separador' >> beam.Map(lambda record: record.split(','))\n",
        "    |'2.Aeroportos atrasados' >> beam.Filter(lambda record: int(record[8]) > 0)\n",
        "    |'2.Agregação de colunas' >> beam.Map(lambda record: (record[3], int(record[8])))\n",
        "    |'2.Quantidade de atrasos' >> beam.combiners.Count.PerKey()\n",
        "    #|'2.Saída de dados' >> beam.Map(print)\n",
        "    #|'2.Gravar resultado' >> beam.io.WriteToText('/content/drive/MyDrive/Soul_Code_Academy/repositorio_apache_beam/resultato_voos_atrasados.txt')\n",
        ")\n",
        "\n",
        "tabela_final = (\n",
        "    {'3.Qtd_Atrasos': atrasos_qtd, 'Tempo_Atrasos': atrasados_tempo}\n",
        "    |'3.Agrupamento das Pipes' >> beam.CoGroupByKey()\n",
        "    |'3.Imprimir resultado' >> beam.Map(print)\n",
        "    #|'3.Gravar resultado' >> beam.io.WriteToText('/content/drive/MyDrive/Soul_Code_Academy/repositorio_apache_beam/atrasos_consolidados.txt')\n",
        ")\n",
        "p1.run()"
      ],
      "execution_count": null,
      "outputs": []
    },
    {
      "cell_type": "markdown",
      "metadata": {
        "id": "JKWSX3g2FnDO"
      },
      "source": [
        "**SALVANDO EM CLOUD**"
      ]
    },
    {
      "cell_type": "code",
      "metadata": {
        "id": "jtROrFccH8Ex"
      },
      "source": [
        "pip install apache-beam[gcp]"
      ],
      "execution_count": null,
      "outputs": []
    },
    {
      "cell_type": "code",
      "metadata": {
        "id": "Ty0nmteciUmx",
        "colab": {
          "base_uri": "https://localhost:8080/",
          "height": 51
        },
        "outputId": "55240697-0d06-40c7-a85b-0f32a050fce6"
      },
      "source": [
        "#BIBLIOTECAS\n",
        "import apache_beam as beam\n",
        "import os\n",
        "\n",
        "serviceAccount = '/content/drive/MyDrive/Soul_Code_Academy/repositorio_apache_beam/ingestao-apache-beam-victor-0ac6fa7d11ea.json'\n",
        "os.environ['GOOGLE_APPLICATION_CREDENTIALS'] = serviceAccount\n",
        "\n",
        "p1 = beam.Pipeline()\n",
        "\n",
        "atrasados_tempo = (\n",
        "    p1\n",
        "    |'1.Extrair os dados' >> beam.io.ReadFromText('/content/drive/MyDrive/Soul_Code_Academy/repositorio_apache_beam/voos_sample.csv', skip_header_lines= 0)\n",
        "    |'1.Separador' >> beam.Map(lambda record: record.split(','))\n",
        "    |'1.Aeroportos atrasados' >> beam.Filter(lambda record: int(record[8]) > 0)\n",
        "    |'1.Agregação de colunas' >> beam.Map(lambda record: (record[3], int(record[8])))\n",
        "    |'1.Combinar os dados' >> beam.CombinePerKey(sum)\n",
        "    #|'1.Gravar resultado' >> beam.io.WriteToText('/content/drive/MyDrive/Soul_Code_Academy/repositorio_apache_beam/resultato_voos_atrasados.txt')\n",
        ")\n",
        "\n",
        "atrasos_qtd = (\n",
        "    p1\n",
        "    |'2.Extrair os dados' >> beam.io.ReadFromText('/content/drive/MyDrive/Soul_Code_Academy/repositorio_apache_beam/voos_sample.csv', skip_header_lines= 0)\n",
        "    |'2.Separador' >> beam.Map(lambda record: record.split(','))\n",
        "    |'2.Aeroportos atrasados' >> beam.Filter(lambda record: int(record[8]) > 0)\n",
        "    |'2.Agregação de colunas' >> beam.Map(lambda record: (record[3], int(record[8])))\n",
        "    |'2.Quantidade de atrasos' >> beam.combiners.Count.PerKey()\n",
        "    #|'2.Gravar resultado' >> beam.io.WriteToText('/content/drive/MyDrive/Soul_Code_Academy/repositorio_apache_beam/resultato_voos_atrasados.txt')\n",
        ")\n",
        "\n",
        "tabela_final = (\n",
        "    {'3.Qtd_Atrasos': atrasos_qtd, 'Tempo_Atrasos': atrasados_tempo}\n",
        "    |'3.Agrupamento das Pipes' >> beam.CoGroupByKey()\n",
        "    #|'3.Imprimir resultado' >> beam.Map(print)\n",
        "    |'3.Salvando no Storage' >> beam.io.WriteToText('gs://eng_gcp_dados_victor_soulcode001/TESTE.csv')\n",
        ")\n",
        "p1.run()"
      ],
      "execution_count": 1,
      "outputs": [
        {
          "output_type": "display_data",
          "data": {
            "application/javascript": [
              "\n",
              "        if (typeof window.interactive_beam_jquery == 'undefined') {\n",
              "          var jqueryScript = document.createElement('script');\n",
              "          jqueryScript.src = 'https://code.jquery.com/jquery-3.4.1.slim.min.js';\n",
              "          jqueryScript.type = 'text/javascript';\n",
              "          jqueryScript.onload = function() {\n",
              "            var datatableScript = document.createElement('script');\n",
              "            datatableScript.src = 'https://cdn.datatables.net/1.10.20/js/jquery.dataTables.min.js';\n",
              "            datatableScript.type = 'text/javascript';\n",
              "            datatableScript.onload = function() {\n",
              "              window.interactive_beam_jquery = jQuery.noConflict(true);\n",
              "              window.interactive_beam_jquery(document).ready(function($){\n",
              "                \n",
              "              });\n",
              "            }\n",
              "            document.head.appendChild(datatableScript);\n",
              "          };\n",
              "          document.head.appendChild(jqueryScript);\n",
              "        } else {\n",
              "          window.interactive_beam_jquery(document).ready(function($){\n",
              "            \n",
              "          });\n",
              "        }"
            ]
          },
          "metadata": {}
        },
        {
          "output_type": "stream",
          "name": "stderr",
          "text": [
            "WARNING:root:Make sure that locally built Python SDK docker image has Python 3.7 interpreter.\n"
          ]
        },
        {
          "output_type": "execute_result",
          "data": {
            "text/plain": [
              "<apache_beam.runners.portability.fn_api_runner.fn_runner.RunnerResult at 0x7f36edbae150>"
            ]
          },
          "metadata": {},
          "execution_count": 1
        }
      ]
    },
    {
      "cell_type": "code",
      "metadata": {
        "id": "wLD7P_NsIRAw"
      },
      "source": [
        ""
      ],
      "execution_count": null,
      "outputs": []
    }
  ]
}