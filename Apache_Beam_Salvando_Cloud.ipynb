{
  "nbformat": 4,
  "nbformat_minor": 0,
  "metadata": {
    "colab": {
      "name": "Apache_Beam_Salvando_Cloud.ipynb",
      "provenance": [],
      "collapsed_sections": [],
      "mount_file_id": "1xNyOizLFw38F5NyxBNFkdjz_LQp8qQIM",
      "authorship_tag": "ABX9TyNkndhCLOk1fpNCqqghvMZU",
      "include_colab_link": true
    },
    "kernelspec": {
      "name": "python3",
      "display_name": "Python 3"
    },
    "language_info": {
      "name": "python"
    }
  },
  "cells": [
    {
      "cell_type": "markdown",
      "metadata": {
        "id": "view-in-github",
        "colab_type": "text"
      },
      "source": [
        "<a href=\"https://colab.research.google.com/github/victorog17/soulcode_aulas_apache_beam/blob/main/Apache_Beam_Salvando_Cloud.ipynb\" target=\"_parent\"><img src=\"https://colab.research.google.com/assets/colab-badge.svg\" alt=\"Open In Colab\"/></a>"
      ]
    },
    {
      "cell_type": "markdown",
      "metadata": {
        "id": "bQ9UkSV0No-h"
      },
      "source": [
        "**INSTALANDO APACHE BEAM GCP**"
      ]
    },
    {
      "cell_type": "code",
      "metadata": {
        "id": "poTVlB_YNYcS"
      },
      "source": [
        "pip install apache-beam[gcp]"
      ],
      "execution_count": null,
      "outputs": []
    },
    {
      "cell_type": "markdown",
      "metadata": {
        "id": "9dKd6r19NuTo"
      },
      "source": [
        "**BIBLIOTECAS**"
      ]
    },
    {
      "cell_type": "code",
      "metadata": {
        "id": "Xr6kk0W_Ns8I"
      },
      "source": [
        "import apache_beam as beam\n",
        "import os"
      ],
      "execution_count": 1,
      "outputs": []
    },
    {
      "cell_type": "markdown",
      "metadata": {
        "id": "7WUfRJHjN1uC"
      },
      "source": [
        "**SALVANDO EM CLOUD**"
      ]
    },
    {
      "cell_type": "code",
      "metadata": {
        "colab": {
          "base_uri": "https://localhost:8080/",
          "height": 88
        },
        "id": "Vznz176mN392",
        "outputId": "c54a0568-fa85-4c0c-f8f2-5ca572fe014c"
      },
      "source": [
        "serviceAccount = '/content/drive/MyDrive/Soul_Code_Academy/repositorio_apache_beam/ingestao-apache-beam-victor-0ac6fa7d11ea.json'\n",
        "os.environ['GOOGLE_APPLICATION_CREDENTIALS'] = serviceAccount\n",
        "\n",
        "p1 = beam.Pipeline()\n",
        "\n",
        "atrasados_tempo = (\n",
        "    p1\n",
        "    |'1.Extrair os dados' >> beam.io.ReadFromText('/content/drive/MyDrive/Soul_Code_Academy/repositorio_apache_beam/voos_sample.csv', skip_header_lines= 0)\n",
        "    |'1.Separador' >> beam.Map(lambda record: record.split(','))\n",
        "    |'1.Aeroportos atrasados' >> beam.Filter(lambda record: int(record[8]) > 0)\n",
        "    |'1.Agregação de colunas' >> beam.Map(lambda record: (record[3], int(record[8])))\n",
        "    |'1.Combinar os dados' >> beam.CombinePerKey(sum)\n",
        "    #|'1.Gravar resultado' >> beam.io.WriteToText('/content/drive/MyDrive/Soul_Code_Academy/repositorio_apache_beam/resultato_voos_atrasados.txt')\n",
        ")\n",
        "\n",
        "atrasos_qtd = (\n",
        "    p1\n",
        "    |'2.Extrair os dados' >> beam.io.ReadFromText('/content/drive/MyDrive/Soul_Code_Academy/repositorio_apache_beam/voos_sample.csv', skip_header_lines= 0)\n",
        "    |'2.Separador' >> beam.Map(lambda record: record.split(','))\n",
        "    |'2.Aeroportos atrasados' >> beam.Filter(lambda record: int(record[8]) > 0)\n",
        "    |'2.Agregação de colunas' >> beam.Map(lambda record: (record[3], int(record[8])))\n",
        "    |'2.Quantidade de atrasos' >> beam.combiners.Count.PerKey()\n",
        "    #|'2.Gravar resultado' >> beam.io.WriteToText('/content/drive/MyDrive/Soul_Code_Academy/repositorio_apache_beam/resultato_voos_atrasados.txt')\n",
        ")\n",
        "\n",
        "tabela_final = (\n",
        "    {'3.Qtd_Atrasos': atrasos_qtd, 'Tempo_Atrasos': atrasados_tempo}\n",
        "    |'3.Agrupamento das Pipes' >> beam.CoGroupByKey()\n",
        "    #|'3.Imprimir resultado' >> beam.Map(print)\n",
        "    |'3.Salvando no Storage' >> beam.io.WriteToText('gs://eng_gcp_dados_victor_soulcode001/TESTE2.csv')\n",
        ")\n",
        "p1.run()"
      ],
      "execution_count": 2,
      "outputs": [
        {
          "output_type": "stream",
          "name": "stderr",
          "text": [
            "WARNING:apache_beam.runners.interactive.interactive_environment:Dependencies required for Interactive Beam PCollection visualization are not available, please use: `pip install apache-beam[interactive]` to install necessary dependencies to enable all data visualization features.\n"
          ]
        },
        {
          "output_type": "display_data",
          "data": {
            "application/javascript": [
              "\n",
              "        if (typeof window.interactive_beam_jquery == 'undefined') {\n",
              "          var jqueryScript = document.createElement('script');\n",
              "          jqueryScript.src = 'https://code.jquery.com/jquery-3.4.1.slim.min.js';\n",
              "          jqueryScript.type = 'text/javascript';\n",
              "          jqueryScript.onload = function() {\n",
              "            var datatableScript = document.createElement('script');\n",
              "            datatableScript.src = 'https://cdn.datatables.net/1.10.20/js/jquery.dataTables.min.js';\n",
              "            datatableScript.type = 'text/javascript';\n",
              "            datatableScript.onload = function() {\n",
              "              window.interactive_beam_jquery = jQuery.noConflict(true);\n",
              "              window.interactive_beam_jquery(document).ready(function($){\n",
              "                \n",
              "              });\n",
              "            }\n",
              "            document.head.appendChild(datatableScript);\n",
              "          };\n",
              "          document.head.appendChild(jqueryScript);\n",
              "        } else {\n",
              "          window.interactive_beam_jquery(document).ready(function($){\n",
              "            \n",
              "          });\n",
              "        }"
            ]
          },
          "metadata": {}
        },
        {
          "output_type": "stream",
          "name": "stderr",
          "text": [
            "WARNING:root:Make sure that locally built Python SDK docker image has Python 3.7 interpreter.\n"
          ]
        },
        {
          "output_type": "execute_result",
          "data": {
            "text/plain": [
              "<apache_beam.runners.portability.fn_api_runner.fn_runner.RunnerResult at 0x7f21fbc87cd0>"
            ]
          },
          "metadata": {},
          "execution_count": 2
        }
      ]
    }
  ]
}